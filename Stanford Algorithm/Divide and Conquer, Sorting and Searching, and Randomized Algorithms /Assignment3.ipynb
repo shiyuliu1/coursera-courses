{
 "cells": [
  {
   "cell_type": "code",
   "execution_count": 1,
   "metadata": {},
   "outputs": [],
   "source": [
    "f = open('QuickSort.txt', 'r')\n",
    "ls = f.readlines()\n",
    "f.close()\n",
    "ia = [int(i) for i in ls]"
   ]
  },
  {
   "cell_type": "code",
   "execution_count": 6,
   "metadata": {},
   "outputs": [
    {
     "data": {
      "text/plain": [
       "162085"
      ]
     },
     "execution_count": 6,
     "metadata": {},
     "output_type": "execute_result"
    }
   ],
   "source": [
    "def q1(a):\n",
    "    if len(a) <= 1:\n",
    "        return (a, 0)\n",
    "    pivot = a[0]\n",
    "    i, j = 1, 1\n",
    "    n = len(a)-1\n",
    "    while j < len(a):\n",
    "        if a[j] > pivot:\n",
    "            j += 1\n",
    "        else:\n",
    "            a[i], a[j] = a[j], a[i]\n",
    "            i += 1\n",
    "            j += 1\n",
    "    a[0], a[i-1] = a[i-1], a[0]\n",
    "    a[:i-1], nleft = q1(a[:i-1])\n",
    "    a[i:], nright = q1(a[i:])\n",
    "    return (a, n+nleft+nright)\n",
    "_, ans = q1(ia)\n",
    "ans"
   ]
  },
  {
   "cell_type": "code",
   "execution_count": null,
   "metadata": {},
   "outputs": [],
   "source": [
    "f = open('QuickSort.txt', 'r')\n",
    "ls = f.readlines()\n",
    "f.close()\n",
    "ia = [int(i) for i in ls]"
   ]
  },
  {
   "cell_type": "code",
   "execution_count": 9,
   "metadata": {},
   "outputs": [
    {
     "data": {
      "text/plain": [
       "164123"
      ]
     },
     "execution_count": 9,
     "metadata": {},
     "output_type": "execute_result"
    }
   ],
   "source": [
    "def q2(a):\n",
    "    if len(a) <= 1:\n",
    "        return (a, 0)\n",
    "    pivot = a[-1]\n",
    "    a[0], a[-1] = a[-1], a[0]\n",
    "    i, j = 1, 1\n",
    "    n = len(a)-1\n",
    "    while j < len(a):\n",
    "        if a[j] > pivot:\n",
    "            j += 1\n",
    "        else:\n",
    "            a[i], a[j] = a[j], a[i]\n",
    "            i += 1\n",
    "            j += 1\n",
    "    a[0], a[i-1] = a[i-1], a[0]\n",
    "    a[:i-1], nleft = q2(a[:i-1])\n",
    "    a[i:], nright = q2(a[i:])\n",
    "    return (a, n+nleft+nright)\n",
    "_, ans = q2(ia)\n",
    "ans"
   ]
  },
  {
   "cell_type": "code",
   "execution_count": 11,
   "metadata": {},
   "outputs": [],
   "source": [
    "f = open('QuickSort.txt', 'r')\n",
    "ls = f.readlines()\n",
    "f.close()\n",
    "ia = [int(i) for i in ls]"
   ]
  },
  {
   "cell_type": "code",
   "execution_count": 12,
   "metadata": {},
   "outputs": [
    {
     "data": {
      "text/plain": [
       "138382"
      ]
     },
     "execution_count": 12,
     "metadata": {},
     "output_type": "execute_result"
    }
   ],
   "source": [
    "def q3(a):\n",
    "    if len(a) <= 1:\n",
    "        return (a, 0)\n",
    "    findpivot = [a[0], a[(len(a)-1)//2], a[-1]]\n",
    "    k = findpivot.copy()\n",
    "    k.remove(min(k))\n",
    "    knum = findpivot.index(min(k))\n",
    "    pivotnum = 0 if knum == 0 else (len(a)-1)//2 if knum == 1 else len(a)-1\n",
    "    pivot = a[pivotnum]\n",
    "    a[0], a[pivotnum] = a[pivotnum], a[0]\n",
    "    i, j = 1, 1\n",
    "    n = len(a)-1\n",
    "    while j < len(a):\n",
    "        if a[j] > pivot:\n",
    "            j += 1\n",
    "        else:\n",
    "            a[i], a[j] = a[j], a[i]\n",
    "            i += 1\n",
    "            j += 1\n",
    "    a[0], a[i-1] = a[i-1], a[0]\n",
    "    a[:i-1], nleft = q3(a[:i-1])\n",
    "    a[i:], nright = q3(a[i:])\n",
    "    return (a, n+nleft+nright)\n",
    "_, ans = q3(ia)\n",
    "ans"
   ]
  },
  {
   "cell_type": "code",
   "execution_count": null,
   "metadata": {},
   "outputs": [],
   "source": []
  }
 ],
 "metadata": {
  "kernelspec": {
   "display_name": "Python 3",
   "language": "python",
   "name": "python3"
  },
  "language_info": {
   "codemirror_mode": {
    "name": "ipython",
    "version": 3
   },
   "file_extension": ".py",
   "mimetype": "text/x-python",
   "name": "python",
   "nbconvert_exporter": "python",
   "pygments_lexer": "ipython3",
   "version": "3.7.3"
  }
 },
 "nbformat": 4,
 "nbformat_minor": 4
}
