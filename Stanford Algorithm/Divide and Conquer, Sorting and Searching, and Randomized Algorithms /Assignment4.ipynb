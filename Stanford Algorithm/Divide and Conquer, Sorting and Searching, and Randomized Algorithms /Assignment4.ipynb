{
 "cells": [
  {
   "cell_type": "code",
   "execution_count": 1,
   "metadata": {},
   "outputs": [
    {
     "name": "stdout",
     "output_type": "stream",
     "text": [
      "17\n"
     ]
    }
   ],
   "source": [
    "\"\"\"\n",
    "Min Cut\n",
    "\"\"\"\n",
    "\n",
    "from random import choice\n",
    "\n",
    "\n",
    "f = open('kargerMinCut.txt', 'r')\n",
    "ls = f.readlines()\n",
    "f.close()\n",
    "graph = [list(map(int, i.split('\\t')[:-1])) for i in ls]\n",
    "\n",
    "\n",
    "def create():\n",
    "    global graph\n",
    "    return [i.copy() for i in graph]\n",
    "\n",
    "\n",
    "def mincut(g):\n",
    "    while len(g) > 2:\n",
    "        c1 = choice(range(len(g)))\n",
    "        v_del = g.pop(c1)\n",
    "        c2 = choice(range(1, len(v_del)))\n",
    "        v1, v2 = v_del[0], v_del[c2]\n",
    "        while v2 in v_del:\n",
    "            v_del.remove(v2)\n",
    "        for i in range(len(g)):\n",
    "            if g[i][0] == v2:\n",
    "                g[i] += v_del\n",
    "                while v1 in g[i]:\n",
    "                    g[i].remove(v1)\n",
    "            for j in range(len(g[i])):\n",
    "                g[i][j] = v2 if g[i][j] == v1 else g[i][j]\n",
    "    return len(g[0])-1\n",
    "\n",
    "\n",
    "N = 1000\n",
    "cut = []\n",
    "for i in range(N):\n",
    "    cut += [mincut(create())]\n",
    "\n",
    "print(min(cut))\n"
   ]
  },
  {
   "cell_type": "code",
   "execution_count": null,
   "metadata": {},
   "outputs": [],
   "source": []
  }
 ],
 "metadata": {
  "kernelspec": {
   "display_name": "Python 3",
   "language": "python",
   "name": "python3"
  },
  "language_info": {
   "codemirror_mode": {
    "name": "ipython",
    "version": 3
   },
   "file_extension": ".py",
   "mimetype": "text/x-python",
   "name": "python",
   "nbconvert_exporter": "python",
   "pygments_lexer": "ipython3",
   "version": "3.7.3"
  }
 },
 "nbformat": 4,
 "nbformat_minor": 4
}
