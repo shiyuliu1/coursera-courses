{
 "cells": [
  {
   "cell_type": "code",
   "execution_count": 3,
   "metadata": {},
   "outputs": [
    {
     "name": "stdout",
     "output_type": "stream",
     "text": [
      "2407905288\n"
     ]
    }
   ],
   "source": [
    "ia = []\n",
    "f = open('IntegerArray.txt', 'r')\n",
    "ls = f.readlines()\n",
    "f.close()\n",
    "ia = [int(i) for i in ls]\n",
    "\n",
    "\n",
    "def inversion(a):\n",
    "    n = len(a)\n",
    "    if n == 1:\n",
    "        return (a, 0)\n",
    "    else:\n",
    "        b1, nleft = inversion(a[:n//2])\n",
    "        b2, nright = inversion(a[n//2:])\n",
    "        cross = 0\n",
    "        b = []\n",
    "        i, j = 0, 0\n",
    "        while i < len(b1) or j < len(b2):\n",
    "            if i == len(b1):\n",
    "                b += b2[j:]\n",
    "                j = len(b2)\n",
    "            elif j == len(b2):\n",
    "                b += b1[i:]\n",
    "                i = len(b1)\n",
    "            elif b1[i] < b2[j]:\n",
    "                b += [b1[i]]\n",
    "                i += 1\n",
    "            else:\n",
    "                b += [b2[j]]\n",
    "                j += 1\n",
    "                cross += len(b1)-i\n",
    "        return (b, nleft+nright+cross)\n",
    "\n",
    "\n",
    "_, num = inversion(ia)\n",
    "print(num)\n"
   ]
  },
  {
   "cell_type": "code",
   "execution_count": null,
   "metadata": {},
   "outputs": [],
   "source": []
  }
 ],
 "metadata": {
  "kernelspec": {
   "display_name": "Python 3",
   "language": "python",
   "name": "python3"
  },
  "language_info": {
   "codemirror_mode": {
    "name": "ipython",
    "version": 3
   },
   "file_extension": ".py",
   "mimetype": "text/x-python",
   "name": "python",
   "nbconvert_exporter": "python",
   "pygments_lexer": "ipython3",
   "version": "3.7.3"
  }
 },
 "nbformat": 4,
 "nbformat_minor": 4
}
