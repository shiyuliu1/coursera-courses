{
 "cells": [
  {
   "cell_type": "code",
   "execution_count": 3,
   "metadata": {},
   "outputs": [],
   "source": [
    "def inversion(a):\n",
    "    n = len(a)\n",
    "    if n == 1:\n",
    "        return(a, 0)\n",
    "    b1, nleft = inversion(a[:n//2])\n",
    "    b2, nright = inversion(a[n//2:])\n",
    "    i, j = 0, 0\n",
    "    b = []\n",
    "    cross = 0\n",
    "    while i < len(b1) and j < len(b2):\n",
    "        if b1[i] <= b2[j]:\n",
    "            b.append(b1[i])\n",
    "            i += 1\n",
    "        else:\n",
    "            b.append(b2[j])\n",
    "            j += 1\n",
    "            cross += len(b1)-i\n",
    "    if i == len(b1):\n",
    "        b += b2[j:]\n",
    "    else:\n",
    "        b += b1[i:]\n",
    "    return (b, nleft+nright+cross)"
   ]
  },
  {
   "cell_type": "code",
   "execution_count": 4,
   "metadata": {},
   "outputs": [
    {
     "name": "stdout",
     "output_type": "stream",
     "text": [
      "2407905288\n"
     ]
    }
   ],
   "source": [
    "ia = []\n",
    "f = open('IntegerArray.txt', 'r')\n",
    "ls = f.readlines()\n",
    "f.close()\n",
    "ia = [int(i) for i in ls]\n",
    "_, num = inversion(ia)\n",
    "print(num)"
   ]
  },
  {
   "cell_type": "code",
   "execution_count": null,
   "metadata": {},
   "outputs": [],
   "source": []
  }
 ],
 "metadata": {
  "kernelspec": {
   "display_name": "Python 3",
   "language": "python",
   "name": "python3"
  },
  "language_info": {
   "codemirror_mode": {
    "name": "ipython",
    "version": 3
   },
   "file_extension": ".py",
   "mimetype": "text/x-python",
   "name": "python",
   "nbconvert_exporter": "python",
   "pygments_lexer": "ipython3",
   "version": "3.7.3"
  }
 },
 "nbformat": 4,
 "nbformat_minor": 4
}
