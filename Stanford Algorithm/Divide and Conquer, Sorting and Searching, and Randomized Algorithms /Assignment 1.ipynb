{
 "cells": [
  {
   "cell_type": "code",
   "execution_count": 12,
   "metadata": {},
   "outputs": [],
   "source": [
    "def kara(num1, num2):\n",
    "    n1, n2 = len(num1), len(num2)\n",
    "    a, b, c, d = num1[:n1//2], num1[n1//2:], num2[:n2//2], num2[n2//2:]\n",
    "    if min(len(a), len(b), len(c), len(d)) == :\n",
    "        ac = str(int(a)*int(c))\n",
    "        ad = str(int(a)*int(d))\n",
    "        bc = str(int(b)*int(c))\n",
    "        bd = str(int(b)*int(d))\n",
    "    else:\n",
    "        ac = kara(a, c)\n",
    "        ad = kara(a, d)\n",
    "        bc = kara(b, c)\n",
    "        bd = kara(b, d)\n",
    "    return str(int(ac)*int(10**(len(a)*2))+(int(ad)+int(bc))*int(10**len(a))+int(bd))"
   ]
  },
  {
   "cell_type": "code",
   "execution_count": 13,
   "metadata": {},
   "outputs": [
    {
     "data": {
      "text/plain": [
       "'8539734222673567065463550869546574495034888535765114961879601127067743044893204848617875072216249073013374895871952806582723184'"
      ]
     },
     "execution_count": 13,
     "metadata": {},
     "output_type": "execute_result"
    }
   ],
   "source": [
    "kara('3141592653589793238462643383279502884197169399375105820974944592', '2718281828459045235360287471352662497757247093699959574966967627')"
   ]
  },
  {
   "cell_type": "code",
   "execution_count": null,
   "metadata": {},
   "outputs": [],
   "source": []
  }
 ],
 "metadata": {
  "kernelspec": {
   "display_name": "Python 3",
   "language": "python",
   "name": "python3"
  },
  "language_info": {
   "codemirror_mode": {
    "name": "ipython",
    "version": 3
   },
   "file_extension": ".py",
   "mimetype": "text/x-python",
   "name": "python",
   "nbconvert_exporter": "python",
   "pygments_lexer": "ipython3",
   "version": "3.7.3"
  }
 },
 "nbformat": 4,
 "nbformat_minor": 4
}
