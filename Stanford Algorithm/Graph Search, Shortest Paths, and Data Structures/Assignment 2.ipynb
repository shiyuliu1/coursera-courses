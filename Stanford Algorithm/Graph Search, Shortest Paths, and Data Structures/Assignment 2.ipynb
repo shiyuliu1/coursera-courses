{
 "cells": [
  {
   "cell_type": "code",
   "execution_count": 1,
   "metadata": {},
   "outputs": [
    {
     "name": "stdout",
     "output_type": "stream",
     "text": [
      "2599,2610,2947,2052,2367,2399,2029,2442,2505,3068\n"
     ]
    }
   ],
   "source": [
    "shortest_path ={}\n",
    "\n",
    "def dijkstra(graph , Node):\n",
    "    global shortest_path\n",
    "    shortest_path[Node] = 0\n",
    "    growing_node = {Node}\n",
    "    while (len(growing_node) != len(graph) ):\n",
    "        mini = 1000000\n",
    "        mini_edge = (None , None)\n",
    "        for node in growing_node:\n",
    "            for edge in graph[node]:\n",
    "                head_node = edge.split(\",\")[0]\n",
    "                length = int(edge.split(\",\")[1])\n",
    "                if head_node not in growing_node:\n",
    "                    if shortest_path[node]+ length < mini:\n",
    "                        mini_edge = (node ,head_node)\n",
    "                        mini = shortest_path[node] + length\n",
    "        if mini_edge != (None , None):\n",
    "            growing_node.add(mini_edge[1])\n",
    "            shortest_path[mini_edge[1]] = mini\n",
    "        else:\n",
    "            for key in graph.keys():\n",
    "                if key not in growing_node:\n",
    "                    growing_node.add(key)\n",
    "                    shortest_path[key] = mini\n",
    "                \n",
    "graph = {}\n",
    "with open('dijkstraData.txt') as f:\n",
    "    data = f.readlines()\n",
    "    for line in data:\n",
    "        elements = list(map(str,line.split('\\t')[:-1]))\n",
    "        graph[str(elements[0])] = elements[1:]\n",
    "f.close()\n",
    "\n",
    "dijkstra(graph , \"1\")\n",
    "\n",
    "ans = ''\n",
    "for i in ['7','37','59','82','99','115','133','165','188','197']:\n",
    "    ans += str(shortest_path[i]) + \",\"\n",
    "\n",
    "ans = ans[:-1]\n",
    "\n",
    "print(ans)"
   ]
  },
  {
   "cell_type": "code",
   "execution_count": null,
   "metadata": {},
   "outputs": [],
   "source": []
  }
 ],
 "metadata": {
  "kernelspec": {
   "display_name": "Python 3",
   "language": "python",
   "name": "python3"
  },
  "language_info": {
   "codemirror_mode": {
    "name": "ipython",
    "version": 3
   },
   "file_extension": ".py",
   "mimetype": "text/x-python",
   "name": "python",
   "nbconvert_exporter": "python",
   "pygments_lexer": "ipython3",
   "version": "3.7.3"
  }
 },
 "nbformat": 4,
 "nbformat_minor": 4
}
